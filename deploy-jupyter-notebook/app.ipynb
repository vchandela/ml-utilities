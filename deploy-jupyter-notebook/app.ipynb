{
 "cells": [
  {
   "cell_type": "code",
   "execution_count": 99,
   "metadata": {},
   "outputs": [
    {
     "name": "stdout",
     "output_type": "stream",
     "text": [
      "Requirement already satisfied: requests in /Users/vivekchandela/sharechat/livestream-vg-service/ml-utilities/.venv/lib/python3.13/site-packages (2.32.3)\n",
      "Requirement already satisfied: websocket-client in /Users/vivekchandela/sharechat/livestream-vg-service/ml-utilities/.venv/lib/python3.13/site-packages (1.8.0)\n",
      "Requirement already satisfied: nbformat in /Users/vivekchandela/sharechat/livestream-vg-service/ml-utilities/.venv/lib/python3.13/site-packages (5.10.4)\n",
      "Requirement already satisfied: charset-normalizer<4,>=2 in /Users/vivekchandela/sharechat/livestream-vg-service/ml-utilities/.venv/lib/python3.13/site-packages (from requests) (3.4.2)\n",
      "Requirement already satisfied: idna<4,>=2.5 in /Users/vivekchandela/sharechat/livestream-vg-service/ml-utilities/.venv/lib/python3.13/site-packages (from requests) (3.10)\n",
      "Requirement already satisfied: urllib3<3,>=1.21.1 in /Users/vivekchandela/sharechat/livestream-vg-service/ml-utilities/.venv/lib/python3.13/site-packages (from requests) (2.4.0)\n",
      "Requirement already satisfied: certifi>=2017.4.17 in /Users/vivekchandela/sharechat/livestream-vg-service/ml-utilities/.venv/lib/python3.13/site-packages (from requests) (2025.4.26)\n",
      "Requirement already satisfied: fastjsonschema>=2.15 in /Users/vivekchandela/sharechat/livestream-vg-service/ml-utilities/.venv/lib/python3.13/site-packages (from nbformat) (2.21.1)\n",
      "Requirement already satisfied: jsonschema>=2.6 in /Users/vivekchandela/sharechat/livestream-vg-service/ml-utilities/.venv/lib/python3.13/site-packages (from nbformat) (4.24.0)\n",
      "Requirement already satisfied: jupyter-core!=5.0.*,>=4.12 in /Users/vivekchandela/sharechat/livestream-vg-service/ml-utilities/.venv/lib/python3.13/site-packages (from nbformat) (5.8.1)\n",
      "Requirement already satisfied: traitlets>=5.1 in /Users/vivekchandela/sharechat/livestream-vg-service/ml-utilities/.venv/lib/python3.13/site-packages (from nbformat) (5.14.3)\n",
      "Requirement already satisfied: attrs>=22.2.0 in /Users/vivekchandela/sharechat/livestream-vg-service/ml-utilities/.venv/lib/python3.13/site-packages (from jsonschema>=2.6->nbformat) (25.3.0)\n",
      "Requirement already satisfied: jsonschema-specifications>=2023.03.6 in /Users/vivekchandela/sharechat/livestream-vg-service/ml-utilities/.venv/lib/python3.13/site-packages (from jsonschema>=2.6->nbformat) (2025.4.1)\n",
      "Requirement already satisfied: referencing>=0.28.4 in /Users/vivekchandela/sharechat/livestream-vg-service/ml-utilities/.venv/lib/python3.13/site-packages (from jsonschema>=2.6->nbformat) (0.36.2)\n",
      "Requirement already satisfied: rpds-py>=0.7.1 in /Users/vivekchandela/sharechat/livestream-vg-service/ml-utilities/.venv/lib/python3.13/site-packages (from jsonschema>=2.6->nbformat) (0.25.1)\n",
      "Requirement already satisfied: platformdirs>=2.5 in /Users/vivekchandela/sharechat/livestream-vg-service/ml-utilities/.venv/lib/python3.13/site-packages (from jupyter-core!=5.0.*,>=4.12->nbformat) (4.3.8)\n"
     ]
    }
   ],
   "source": [
    "import sys\n",
    "!{sys.executable} -m pip install requests websocket-client nbformat"
   ]
  },
  {
   "cell_type": "code",
   "execution_count": 100,
   "metadata": {},
   "outputs": [
    {
     "name": "stdout",
     "output_type": "stream",
     "text": [
      "Kernel ID: 94ad266b-38c0-4714-9a30-67bf91b43507\n"
     ]
    }
   ],
   "source": [
    "import requests\n",
    "\n",
    "# No auth since you passed token=''\n",
    "url = 'http://localhost:8888'\n",
    "\n",
    "# Start a kernel\n",
    "resp = requests.post(f'{url}/api/kernels')\n",
    "kernel_id = resp.json()['id']\n",
    "print(\"Kernel ID:\", kernel_id)"
   ]
  },
  {
   "cell_type": "code",
   "execution_count": 101,
   "metadata": {},
   "outputs": [],
   "source": [
    "import websocket\n",
    "import uuid\n",
    "import json\n",
    "\n",
    "def send_execute_request(ws, code, kernel_id):\n",
    "    msg_id = str(uuid.uuid4())\n",
    "    msg = {\n",
    "        \"header\": {\n",
    "            \"msg_id\": msg_id,\n",
    "            \"username\": \"username\",\n",
    "            \"session\": str(uuid.uuid4()),\n",
    "            \"msg_type\": \"execute_request\",\n",
    "            \"version\": \"5.3\",\n",
    "        },\n",
    "        \"parent_header\": {},\n",
    "        \"metadata\": {},\n",
    "        \"content\": {\n",
    "            \"code\": code,\n",
    "            \"silent\": False,\n",
    "        },\n",
    "        \"channel\": \"shell\"\n",
    "    }\n",
    "    ws.send(json.dumps(msg))\n",
    "    return msg_id"
   ]
  },
  {
   "cell_type": "code",
   "execution_count": 102,
   "metadata": {},
   "outputs": [],
   "source": [
    "import nbformat\n",
    "\n",
    "def append_code_cell_with_output_remote(jupyter_url, notebook_name, code, output):\n",
    "    # 1. Read the notebook from the running Jupyter server\n",
    "    response = requests.get(f\"{jupyter_url}/api/contents/{notebook_name}\")\n",
    "    response.raise_for_status()\n",
    "    content = response.json()[\"content\"]\n",
    "    \n",
    "    # 2. Load notebook into nbformat object\n",
    "    nb = nbformat.from_dict(content)\n",
    "\n",
    "    # 3. Append new code cell and include kernel output\n",
    "    new_cell = nbformat.v4.new_code_cell(source=code)\n",
    "    # Build output object properly depending on type\n",
    "    if output:\n",
    "        output_type = output.get(\"output_type\")\n",
    "        if output_type == \"execute_result\":\n",
    "            new_cell.outputs = [\n",
    "                nbformat.v4.new_output(\n",
    "                    output_type=\"execute_result\",\n",
    "                    data=output[\"data\"],\n",
    "                    metadata=output.get(\"metadata\", {}),\n",
    "                    execution_count=output.get(\"execution_count\")\n",
    "                )\n",
    "            ]\n",
    "        elif output_type == \"stream\":\n",
    "            new_cell.outputs = [\n",
    "                nbformat.v4.new_output(\n",
    "                    output_type=\"stream\",\n",
    "                    name=output.get(\"name\", \"stdout\"),\n",
    "                    text=output.get(\"text\", \"\")\n",
    "                )\n",
    "            ]\n",
    "        elif output_type == \"display_data\":\n",
    "            new_cell.outputs = [\n",
    "                nbformat.v4.new_output(\n",
    "                    output_type=\"display_data\",\n",
    "                    data=output.get(\"data\", {}),\n",
    "                    metadata=output.get(\"metadata\", {})\n",
    "                )\n",
    "            ]\n",
    "    new_cell.execution_count = len([c for c in nb.cells if c.cell_type == \"code\"]) + 1    \n",
    "    nb.cells.append(new_cell)\n",
    "    \n",
    "    # 4. Push the modified notebook back\n",
    "    # Strip unsupported fields for older Jupyter server\n",
    "    for cell in nb.cells:\n",
    "        if \"id\" in cell:\n",
    "            del cell[\"id\"]\n",
    "    response = requests.put(\n",
    "        f\"{jupyter_url}/api/contents/{notebook_name}\",\n",
    "        json={\n",
    "            \"type\": \"notebook\",\n",
    "            \"format\": \"json\",\n",
    "            \"content\": nb\n",
    "        }\n",
    "    )\n",
    "    response.raise_for_status()\n"
   ]
  },
  {
   "cell_type": "code",
   "execution_count": 103,
   "metadata": {},
   "outputs": [
    {
     "name": "stdout",
     "output_type": "stream",
     "text": [
      "{'data': {'text/plain': '22'}, 'metadata': {}, 'execution_count': 1, 'output_type': 'execute_result'}\n"
     ]
    }
   ],
   "source": [
    "notebook_path = \"test.ipynb\"\n",
    "code_to_run = \"12 + 10\"\n",
    "\n",
    "# Step 1: Connect to WebSocket\n",
    "ws_url = f\"ws://localhost:8888/api/kernels/{kernel_id}/channels\"\n",
    "ws = websocket.create_connection(ws_url)\n",
    "\n",
    "# Step 2: Send execute request\n",
    "msg_id = send_execute_request(ws, code_to_run, kernel_id)\n",
    "\n",
    "# Step 3: Wait for output\n",
    "while True:\n",
    "    msg = json.loads(ws.recv())\n",
    "    if msg.get(\"parent_header\", {}).get(\"msg_id\") == msg_id:\n",
    "        if msg[\"msg_type\"] in [\"execute_result\", \"stream\", \"display_data\"]:\n",
    "            execution_output = msg[\"content\"]\n",
    "            execution_output[\"output_type\"] = msg[\"msg_type\"]\n",
    "        elif msg[\"msg_type\"] == \"status\" and msg[\"content\"][\"execution_state\"] == \"idle\":\n",
    "            break\n",
    "        \n",
    "# 4. Append code & output to container’s notebook via API\n",
    "append_code_cell_with_output_remote(\"http://localhost:8888\", notebook_path, code_to_run, execution_output)\n",
    "\n",
    "print(execution_output)"
   ]
  },
  {
   "cell_type": "code",
   "execution_count": null,
   "metadata": {},
   "outputs": [],
   "source": []
  }
 ],
 "metadata": {
  "kernelspec": {
   "display_name": ".venv",
   "language": "python",
   "name": "python3"
  },
  "language_info": {
   "codemirror_mode": {
    "name": "ipython",
    "version": 3
   },
   "file_extension": ".py",
   "mimetype": "text/x-python",
   "name": "python",
   "nbconvert_exporter": "python",
   "pygments_lexer": "ipython3",
   "version": "3.13.1"
  }
 },
 "nbformat": 4,
 "nbformat_minor": 2
}
