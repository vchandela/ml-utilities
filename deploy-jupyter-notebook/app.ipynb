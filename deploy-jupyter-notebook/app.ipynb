{
 "cells": [
  {
   "cell_type": "code",
   "execution_count": 8,
   "metadata": {},
   "outputs": [
    {
     "name": "stdout",
     "output_type": "stream",
     "text": [
      "Requirement already satisfied: requests in ./.venv/lib/python3.13/site-packages (2.32.3)\n",
      "Requirement already satisfied: websocket-client in ./.venv/lib/python3.13/site-packages (1.8.0)\n",
      "Requirement already satisfied: charset-normalizer<4,>=2 in ./.venv/lib/python3.13/site-packages (from requests) (3.4.2)\n",
      "Requirement already satisfied: idna<4,>=2.5 in ./.venv/lib/python3.13/site-packages (from requests) (3.10)\n",
      "Requirement already satisfied: urllib3<3,>=1.21.1 in ./.venv/lib/python3.13/site-packages (from requests) (2.4.0)\n",
      "Requirement already satisfied: certifi>=2017.4.17 in ./.venv/lib/python3.13/site-packages (from requests) (2025.4.26)\n"
     ]
    }
   ],
   "source": [
    "import sys\n",
    "!{sys.executable} -m pip install requests websocket-client"
   ]
  },
  {
   "cell_type": "code",
   "execution_count": 9,
   "metadata": {},
   "outputs": [
    {
     "name": "stdout",
     "output_type": "stream",
     "text": [
      "Kernel ID: c8a38a82-fb6f-4c0b-8f93-452462aabbe3\n"
     ]
    }
   ],
   "source": [
    "import requests\n",
    "\n",
    "# No auth since you passed token=''\n",
    "url = 'http://localhost:8888'\n",
    "\n",
    "# Start a kernel\n",
    "resp = requests.post(f'{url}/api/kernels')\n",
    "kernel_id = resp.json()['id']\n",
    "print(\"Kernel ID:\", kernel_id)"
   ]
  },
  {
   "cell_type": "code",
   "execution_count": 12,
   "metadata": {},
   "outputs": [],
   "source": [
    "import websocket\n",
    "import json\n",
    "import uuid\n",
    "\n",
    "def send_execute_request(ws, code, kernel_id):\n",
    "    msg_id = str(uuid.uuid4())\n",
    "    msg = {\n",
    "        \"header\": {\n",
    "            \"msg_id\": msg_id,\n",
    "            \"username\": \"\",\n",
    "            \"session\": str(uuid.uuid4()),\n",
    "            \"msg_type\": \"execute_request\",\n",
    "            \"version\": \"5.3\"\n",
    "        },\n",
    "        \"parent_header\": {},\n",
    "        \"metadata\": {},\n",
    "        \"content\": {\n",
    "            \"code\": code,\n",
    "            \"silent\": False,\n",
    "            \"store_history\": True\n",
    "        }\n",
    "    }\n",
    "    ws.send(json.dumps(msg))\n",
    "    return msg_id"
   ]
  },
  {
   "cell_type": "code",
   "execution_count": 14,
   "metadata": {},
   "outputs": [
    {
     "name": "stdout",
     "output_type": "stream",
     "text": [
      "Output: 4\n"
     ]
    }
   ],
   "source": [
    "\n",
    "# Connect to websocket\n",
    "ws_url = f\"ws://localhost:8888/api/kernels/{kernel_id}/channels\"\n",
    "ws = websocket.create_connection(ws_url)\n",
    "\n",
    "# Send code to execute\n",
    "msg_id = send_execute_request(ws, \"2 + 2\", kernel_id)\n",
    "\n",
    "# Receive output\n",
    "while True:\n",
    "    msg = json.loads(ws.recv())\n",
    "    if msg.get(\"parent_header\", {}).get(\"msg_id\") == msg_id:\n",
    "        if msg[\"msg_type\"] == \"execute_result\":\n",
    "            print(\"Output:\", msg[\"content\"][\"data\"][\"text/plain\"])\n",
    "            break"
   ]
  }
 ],
 "metadata": {
  "kernelspec": {
   "display_name": ".venv",
   "language": "python",
   "name": "python3"
  },
  "language_info": {
   "codemirror_mode": {
    "name": "ipython",
    "version": 3
   },
   "file_extension": ".py",
   "mimetype": "text/x-python",
   "name": "python",
   "nbconvert_exporter": "python",
   "pygments_lexer": "ipython3",
   "version": "3.13.3"
  }
 },
 "nbformat": 4,
 "nbformat_minor": 2
}
